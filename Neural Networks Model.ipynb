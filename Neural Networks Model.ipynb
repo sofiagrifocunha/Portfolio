{
 "cells": [
  {
   "cell_type": "markdown",
   "metadata": {},
   "source": [
    "<b><font size=\"6\">Machine Learning</font><a class=\"anchor\"><a id='toc'></a></b><br>"
   ]
  },
  {
   "cell_type": "markdown",
   "metadata": {},
   "source": [
    "# <font color='54C13C'>1st Individual Assignment</font> <a class=\"anchor\" id=\"first-bullet\"></a>"
   ]
  },
  {
   "cell_type": "markdown",
   "metadata": {},
   "source": [
    "<div class=\"alert alert-block alert-info\">  \n",
    "    \n",
    "### Student Name:\n",
    "Sofia Alexandra Grifo Cunha\n",
    "### Student Number:\n",
    "M20190795 \n",
    "</div>"
   ]
  },
  {
   "cell_type": "markdown",
   "metadata": {},
   "source": [
    "## <font color=\"54C13C\"> Hotel Dataset </font> <a>"
   ]
  },
  {
   "cell_type": "markdown",
   "metadata": {},
   "source": [
    "The data available in the dataset concerns to the hotel chain IMSInn, that have been keeping score of all the customer satisfaction surveys their guest kindly fill out and leave in their room after their stay. \n",
    "\n",
    "Due to the recent developments of the global pandemic, and the effects it is having on the hotel industry, it was propose to me the development of a model to predict which customers have a higher probability of returning and make booking in the next year."
   ]
  },
  {
   "cell_type": "markdown",
   "metadata": {},
   "source": [
    "\n",
    "### Description of the data."
   ]
  },
  {
   "cell_type": "markdown",
   "metadata": {},
   "source": [
    "\n",
    "`Guest_ID` - Unique identifier of the guest\n",
    "\n",
    "`Gender` - The gender of the guest\n",
    "\n",
    "`Frequent_Traveler` - Binary variable indicating if the guest is a frequent flier or not\n",
    "\n",
    "`Age` - Age of the guest\n",
    "\n",
    "`Type`- Reason for travelling\n",
    "\n",
    "`Flight_Class` - Class of flight took to get to the hotel\n",
    "\n",
    "`Points` - Points from travel club membership\n",
    "\n",
    "`Room` - Evaluation of the room \n",
    "\n",
    "`Check-in/Check-out` - Evaluation of the check-in/check-out process \n",
    "\n",
    "`F&B` - Evaluation of the food and beverages\n",
    "\n",
    "`Location` - Evaluation of the hotel location \n",
    "\n",
    "`Wifi` - Evaluation of the hotel wifi \n",
    "\n",
    "`Entertainment` - Evaluation of the entertainment offer \n",
    "\n",
    "`Gym` - Evaluation of the gym \n",
    "\n",
    "`Spa` - Evaluation of the spa\n",
    "\n",
    "`Staff` - Evaluation of the staff \n",
    "\n",
    "`Pool` - Evaluation of the pool \n",
    "\n",
    "`Baggage_Handling` - Evaluation of the baggage handling process \n",
    "\n",
    "`Reception` - Evaluation of the reception \n",
    "\n",
    "`Cleanliness` - Evaluation of the cleanliness \n",
    "\n",
    "`Online_Booking` - Evaluation of the online booking process \n",
    "\n",
    "`Deposit_Kept` - Amount withdrawn from the credit card of the guest to cover damages\n",
    "\n",
    "`Time_Room_Service` - Average time (minutes) the guest waited to receive room service\n",
    "\n",
    "`Repeater` - Binary variable signaling if the customer returned or not \n",
    "\n",
    "\n",
    "\n"
   ]
  },
  {
   "cell_type": "markdown",
   "metadata": {},
   "source": [
    "### <font color=\"54C13C\"> Imports </font> <a>"
   ]
  },
  {
   "cell_type": "code",
   "execution_count": 1,
   "metadata": {},
   "outputs": [],
   "source": [
    "import pandas as pd\n",
    "import numpy as np\n",
    "import warnings\n",
    "from sklearn.model_selection import train_test_split\n",
    "from sklearn.neural_network import MLPClassifier\n",
    "from sklearn.metrics import classification_report,confusion_matrix\n",
    "from sklearn.metrics import accuracy_score, classification_report\n",
    "from sklearn.model_selection import GridSearchCV\n",
    "from sklearn import preprocessing\n",
    "from sklearn.preprocessing import StandardScaler\n",
    "warnings.filterwarnings('ignore')"
   ]
  },
  {
   "cell_type": "markdown",
   "metadata": {},
   "source": [
    "I use the dataset train to build my machine learning model. An the test to see how well my model performs on unseen data. Then I create two objects, one named __hotel__ that contains the dataset __train.csv__, and the other named __testhotel__ which contains the dataset __test.csv__."
   ]
  },
  {
   "cell_type": "code",
   "execution_count": 2,
   "metadata": {},
   "outputs": [],
   "source": [
    "hotel= pd.read_csv ('train.csv')\n",
    "testhotel= pd.read_csv ('test.csv')"
   ]
  },
  {
   "cell_type": "markdown",
   "metadata": {},
   "source": [
    "### <font color=\"54C13C\"> Transformations </font> <a>"
   ]
  },
  {
   "cell_type": "markdown",
   "metadata": {},
   "source": [
    "`Gender`, `Type`and `Flight_Class`are categorical variables, so in a way to solve this problem for the futher analysis, my solution was to transform into dummys. This transformation was made for the both datasets, the train and the test.<br>"
   ]
  },
  {
   "cell_type": "code",
   "execution_count": 3,
   "metadata": {},
   "outputs": [],
   "source": [
    "categoricals = ['Gender','Type', 'Flight_Class']\n",
    "new_categoricals = [col for col in categoricals if col in hotel.columns]\n",
    "\n",
    "hotel = pd.get_dummies(data=hotel, columns=new_categoricals)"
   ]
  },
  {
   "cell_type": "code",
   "execution_count": 4,
   "metadata": {},
   "outputs": [],
   "source": [
    "tt=testhotel.copy()\n",
    "\n",
    "categoricals = ['Gender','Type', 'Flight_Class']\n",
    "new_categoricals = [col for col in categoricals if col in tt.columns]\n",
    "\n",
    "tt = pd.get_dummies(data=tt, columns=new_categoricals)"
   ]
  },
  {
   "cell_type": "markdown",
   "metadata": {},
   "source": [
    "I create an object named __X_hotel__ that will contain the independent variables and another object named __y_hotel__ that will contains the independent varaible."
   ]
  },
  {
   "cell_type": "code",
   "execution_count": 5,
   "metadata": {},
   "outputs": [],
   "source": [
    "X_hotel = hotel.drop('Repeater', axis=1)\n",
    "y_hotel = hotel['Repeater']"
   ]
  },
  {
   "cell_type": "markdown",
   "metadata": {},
   "source": [
    "It was used the train_test_slipt method to slipt the data into the train and test sets. The divison was with 80% of the data to build the model, and 20% to evaluate the performance of the final model."
   ]
  },
  {
   "cell_type": "code",
   "execution_count": 6,
   "metadata": {},
   "outputs": [],
   "source": [
    "X_train_hotel, X_test_hotel, y_train_hotel, y_test_hotel =train_test_split(X_hotel,y_hotel,\n",
    "                                                                                 test_size = 0.2, \n",
    "                                                                                 random_state = 15,\n",
    "                                                                                 shuffle = True)"
   ]
  },
  {
   "cell_type": "markdown",
   "metadata": {},
   "source": [
    "### <font color=\"54C13C\"> Scaling </font> <a>"
   ]
  },
  {
   "cell_type": "markdown",
   "metadata": {},
   "source": [
    "To normalize the range between the features, and to scale them, the method taht I choose was the __Standard Scaler__ which is going to standardize a feature by removing the mean and dividing each value by the standard deviation.\n",
    "This choice is based on the best results that I obtained during the attempts made.\n",
    "\n",
    "For the scaling of the train data I create an object named __scaler__ that will contain an instance of __StandardScaler()__, and after I fitted the data to the __X_train_hotel__."
   ]
  },
  {
   "cell_type": "code",
   "execution_count": 7,
   "metadata": {},
   "outputs": [
    {
     "data": {
      "text/plain": [
       "StandardScaler(copy=True, with_mean=True, with_std=True)"
      ]
     },
     "execution_count": 7,
     "metadata": {},
     "output_type": "execute_result"
    }
   ],
   "source": [
    "scaler = StandardScaler()\n",
    "scaler.fit(X_train_hotel)"
   ]
  },
  {
   "cell_type": "markdown",
   "metadata": {},
   "source": [
    "To scale the test data for further analysis, I create an object named __norm__, and fitted the data to the __tt__, the previous set created for the test of the model."
   ]
  },
  {
   "cell_type": "code",
   "execution_count": 8,
   "metadata": {},
   "outputs": [],
   "source": [
    "norm=scaler.fit(tt)\n",
    "tt=norm.transform(tt)"
   ]
  },
  {
   "cell_type": "markdown",
   "metadata": {},
   "source": [
    "The train dataset was transform using the scaler."
   ]
  },
  {
   "cell_type": "code",
   "execution_count": 9,
   "metadata": {},
   "outputs": [],
   "source": [
    "X_train_hotel = scaler.transform(X_train_hotel)\n",
    "X_test_hotel = scaler.transform(X_test_hotel)"
   ]
  },
  {
   "cell_type": "markdown",
   "metadata": {},
   "source": [
    "### <font color=\"54C13C\"> Classifier </font> <a>"
   ]
  },
  {
   "cell_type": "markdown",
   "metadata": {},
   "source": [
    "I create an instace of  __MLPClassifier__ named __mlp__, where after a research for the best parameters, the ones that provides a better results were:\n",
    "- __Activation function__: relu\n",
    "- __Solver__: adam\n",
    "- __Hidden layers__: one hidden layer with 90 neurons \n",
    "- __Learning_init__: 0.1\n",
    "- __Learning_rate__: constant\n",
    "- All the other parameters were by default \n",
    "\n",
    "\n",
    "And after I use the __.fit()__method of model to fit the model to the array of points __X_train_hotel__ and __y_train_hotel__.\n",
    " "
   ]
  },
  {
   "cell_type": "code",
   "execution_count": 10,
   "metadata": {
    "scrolled": false
   },
   "outputs": [
    {
     "data": {
      "text/plain": [
       "MLPClassifier(activation='relu', alpha=0.0001, batch_size='auto', beta_1=0.9,\n",
       "              beta_2=0.999, early_stopping=False, epsilon=1e-08,\n",
       "              hidden_layer_sizes=(90,), learning_rate='constant',\n",
       "              learning_rate_init=0.1, max_fun=15000, max_iter=200, momentum=0.9,\n",
       "              n_iter_no_change=10, nesterovs_momentum=True, power_t=0.5,\n",
       "              random_state=1, shuffle=True, solver='adam', tol=0.0001,\n",
       "              validation_fraction=0.1, verbose=False, warm_start=False)"
      ]
     },
     "execution_count": 10,
     "metadata": {},
     "output_type": "execute_result"
    }
   ],
   "source": [
    "mlp = MLPClassifier(activation='relu', solver='adam', hidden_layer_sizes=(90,), learning_rate_init=(0.1), learning_rate='constant', random_state=1)\n",
    "mlp.fit(X_train_hotel,y_train_hotel)"
   ]
  },
  {
   "cell_type": "markdown",
   "metadata": {},
   "source": [
    "### <font color=\"54C13C\"> Model Evaluation </font> <a>"
   ]
  },
  {
   "cell_type": "markdown",
   "metadata": {},
   "source": [
    "I use the __.predict()__ method to predict the labels of points in __X_test_hotel__. To do that I create an object named __predictions__, which contains the predicted values for the test set.\n"
   ]
  },
  {
   "cell_type": "code",
   "execution_count": 11,
   "metadata": {},
   "outputs": [],
   "source": [
    "predictions = mlp.predict(X_test_hotel)"
   ]
  },
  {
   "cell_type": "markdown",
   "metadata": {},
   "source": [
    "To classify the model I use several metrics, namely the precison, recall, f1-score, suport, accuracy, macro average, and weighted average. To check them I use the __Confusion Matrix__, the __Classification Report__."
   ]
  },
  {
   "cell_type": "code",
   "execution_count": 12,
   "metadata": {
    "scrolled": false
   },
   "outputs": [
    {
     "name": "stdout",
     "output_type": "stream",
     "text": [
      "[[735  73]\n",
      " [ 60 952]]\n",
      "              precision    recall  f1-score   support\n",
      "\n",
      "           0       0.92      0.91      0.92       808\n",
      "           1       0.93      0.94      0.93      1012\n",
      "\n",
      "    accuracy                           0.93      1820\n",
      "   macro avg       0.93      0.93      0.93      1820\n",
      "weighted avg       0.93      0.93      0.93      1820\n",
      "\n",
      "0.926923076923077\n"
     ]
    }
   ],
   "source": [
    "print(confusion_matrix(y_test_hotel,predictions))\n",
    "print(classification_report(y_test_hotel,predictions))\n",
    "print(accuracy_score(y_test_hotel, predictions))"
   ]
  },
  {
   "cell_type": "markdown",
   "metadata": {},
   "source": [
    "__Final Result:__\n",
    "Due to the fact that the evaluation metric for this model in this assignment is the __Accuracy__, I also print it separately, where is visible that the accuracy for this model is 0,9269."
   ]
  },
  {
   "cell_type": "markdown",
   "metadata": {},
   "source": [
    "### <font color=\"54C13C\"> Test prediction </font> <a>"
   ]
  },
  {
   "cell_type": "markdown",
   "metadata": {},
   "source": [
    "After having the train results of my model, the next step was to predict it in the test dataset, wich after the transformations is named __tt__. "
   ]
  },
  {
   "cell_type": "code",
   "execution_count": 13,
   "metadata": {},
   "outputs": [],
   "source": [
    "model = mlp.predict(tt)"
   ]
  },
  {
   "cell_type": "code",
   "execution_count": 14,
   "metadata": {},
   "outputs": [],
   "source": [
    "predict =pd.DataFrame()"
   ]
  },
  {
   "cell_type": "code",
   "execution_count": 15,
   "metadata": {
    "scrolled": true
   },
   "outputs": [
    {
     "data": {
      "text/html": [
       "<div>\n",
       "<style scoped>\n",
       "    .dataframe tbody tr th:only-of-type {\n",
       "        vertical-align: middle;\n",
       "    }\n",
       "\n",
       "    .dataframe tbody tr th {\n",
       "        vertical-align: top;\n",
       "    }\n",
       "\n",
       "    .dataframe thead th {\n",
       "        text-align: right;\n",
       "    }\n",
       "</style>\n",
       "<table border=\"1\" class=\"dataframe\">\n",
       "  <thead>\n",
       "    <tr style=\"text-align: right;\">\n",
       "      <th></th>\n",
       "      <th>Guest_ID</th>\n",
       "      <th>Repeater</th>\n",
       "    </tr>\n",
       "  </thead>\n",
       "  <tbody>\n",
       "    <tr>\n",
       "      <th>0</th>\n",
       "      <td>19847</td>\n",
       "      <td>0</td>\n",
       "    </tr>\n",
       "    <tr>\n",
       "      <th>1</th>\n",
       "      <td>12433</td>\n",
       "      <td>1</td>\n",
       "    </tr>\n",
       "    <tr>\n",
       "      <th>2</th>\n",
       "      <td>10273</td>\n",
       "      <td>1</td>\n",
       "    </tr>\n",
       "    <tr>\n",
       "      <th>3</th>\n",
       "      <td>12457</td>\n",
       "      <td>0</td>\n",
       "    </tr>\n",
       "    <tr>\n",
       "      <th>4</th>\n",
       "      <td>22903</td>\n",
       "      <td>0</td>\n",
       "    </tr>\n",
       "    <tr>\n",
       "      <th>...</th>\n",
       "      <td>...</td>\n",
       "      <td>...</td>\n",
       "    </tr>\n",
       "    <tr>\n",
       "      <th>3895</th>\n",
       "      <td>18266</td>\n",
       "      <td>1</td>\n",
       "    </tr>\n",
       "    <tr>\n",
       "      <th>3896</th>\n",
       "      <td>21243</td>\n",
       "      <td>1</td>\n",
       "    </tr>\n",
       "    <tr>\n",
       "      <th>3897</th>\n",
       "      <td>19539</td>\n",
       "      <td>1</td>\n",
       "    </tr>\n",
       "    <tr>\n",
       "      <th>3898</th>\n",
       "      <td>15253</td>\n",
       "      <td>0</td>\n",
       "    </tr>\n",
       "    <tr>\n",
       "      <th>3899</th>\n",
       "      <td>22708</td>\n",
       "      <td>1</td>\n",
       "    </tr>\n",
       "  </tbody>\n",
       "</table>\n",
       "<p>3900 rows × 2 columns</p>\n",
       "</div>"
      ],
      "text/plain": [
       "      Guest_ID  Repeater\n",
       "0        19847         0\n",
       "1        12433         1\n",
       "2        10273         1\n",
       "3        12457         0\n",
       "4        22903         0\n",
       "...        ...       ...\n",
       "3895     18266         1\n",
       "3896     21243         1\n",
       "3897     19539         1\n",
       "3898     15253         0\n",
       "3899     22708         1\n",
       "\n",
       "[3900 rows x 2 columns]"
      ]
     },
     "execution_count": 15,
     "metadata": {},
     "output_type": "execute_result"
    }
   ],
   "source": [
    "predict['Guest_ID']= testhotel['Guest_ID'].copy()\n",
    "predict['Repeater'] = model\n",
    "\n",
    "predict"
   ]
  },
  {
   "cell_type": "markdown",
   "metadata": {},
   "source": [
    "### <font color=\"54C13C\"> Export .csv file </font> <a>"
   ]
  },
  {
   "cell_type": "code",
   "execution_count": 16,
   "metadata": {},
   "outputs": [],
   "source": [
    "predict.to_csv('m20190795_version13.csv',index=False, header=True)"
   ]
  },
  {
   "cell_type": "markdown",
   "metadata": {},
   "source": [
    "### <font color=\"54C13C\"> Note: </font> <a>"
   ]
  },
  {
   "cell_type": "markdown",
   "metadata": {},
   "source": [
    "I also use the __GridSearchCV__ in a attempt to find out which were the best parameters for my model, but since the my best result was chosen by hand, I decide to include that part of the code bellow, just to show the code I use in other attempts."
   ]
  },
  {
   "cell_type": "code",
   "execution_count": 17,
   "metadata": {},
   "outputs": [],
   "source": [
    "parameter_space = {\n",
    "    'hidden_layer_sizes': [(60,40), (10,15)],\n",
    "    'activation': ['relu','logistic','tanh'],\n",
    "    'solver': ['lbfgs','sgd', 'adam'],\n",
    "    'learning_rate_init': [0.1,0.01],\n",
    "    'learning_rate': ['constant','adaptive']\n",
    "}"
   ]
  },
  {
   "cell_type": "code",
   "execution_count": 18,
   "metadata": {},
   "outputs": [
    {
     "name": "stdout",
     "output_type": "stream",
     "text": [
      "Best parameters found:\n",
      " {'activation': 'relu', 'hidden_layer_sizes': (60, 40), 'learning_rate': 'constant', 'learning_rate_init': 0.01, 'solver': 'adam'}\n"
     ]
    }
   ],
   "source": [
    "from sklearn.model_selection import GridSearchCV\n",
    "clf_r = GridSearchCV(mlp, parameter_space)\n",
    "clf_r.fit(X_train_hotel, y_train_hotel)\n",
    "print('Best parameters found:\\n', clf_r.best_params_)"
   ]
  }
 ],
 "metadata": {
  "kernelspec": {
   "display_name": "Python 3",
   "language": "python",
   "name": "python3"
  },
  "language_info": {
   "codemirror_mode": {
    "name": "ipython",
    "version": 3
   },
   "file_extension": ".py",
   "mimetype": "text/x-python",
   "name": "python",
   "nbconvert_exporter": "python",
   "pygments_lexer": "ipython3",
   "version": "3.7.3"
  }
 },
 "nbformat": 4,
 "nbformat_minor": 2
}
