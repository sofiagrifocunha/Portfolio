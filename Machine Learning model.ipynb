{
 "cells": [
  {
   "cell_type": "markdown",
   "metadata": {},
   "source": [
    "<img src=\"IMS_logo.PNG\" align=\"right\" style=\"width: 120px;\"/>\n",
    "\n",
    "\n",
    "# <center>Machine Learning</center>\n",
    "##  Group 21 Project  \n",
    "### Done By: \n",
    "> ###  - Nuno Rosário - M20190482 - M20190482@novaims.unl.pt\n",
    "> ###  - Philipp  Tueschen - M20180391 - M20180391@novaims.unl.pt\n",
    "> ###  - Ricardo Gonçalves - M20190211 - M20190211@novaims.unl.pt\n",
    "> ###  - Sofia Grifo - M20190795 - M20190795@novaims.unl.pt"
   ]
  },
  {
   "cell_type": "markdown",
   "metadata": {},
   "source": [
    "---"
   ]
  },
  {
   "cell_type": "markdown",
   "metadata": {},
   "source": [
    "<div class=\"alert alert-block alert-info\">\n",
    "    \n",
    "# Table of Content<a class=\"anchor\"><a id='toc'></a></b><br>\n",
    "* [<font color='#E8800A'>Resources</font>](#first-bullet)<br>\n",
    "- [<font color='#E8800A'>Data</font>](#second-bullet)<br>\n",
    "- [<font color='#E8800A'>Functions</font>](#third-bullet)<br>\n",
    "- [<font color='#E8800A'>Evaluation</font>](#fourth-bullet)<br>\n",
    "- [<font color='#E8800A'>Development Method</font>](#fifth-bullet)<br>  \n",
    "- [<font color='#E8800A'>Explore</font>](#sixth-bullet) <br>\n",
    "- [<font color='#E8800A'>Modify</font>](#eighth-bullet)<br>\n",
    "- [<font color='#E8800A'>Model</font>](#nineth-bullet)<br>\n",
    "- [<font color='#E8800A'>Access</font>](#tenth-bullet)<br>  \n",
    "- [<font color='#E8800A'>Predicting Test set</font>](#eleventh-bullet)<br>  \n",
    "</div>\n"
   ]
  },
  {
   "cell_type": "markdown",
   "metadata": {},
   "source": [
    "## <font color='#E8800A'>Resources</font> <a class=\"anchor\" id=\"first-bullet\"></a>\n",
    "  [Back to TOC](#toc)"
   ]
  },
  {
   "cell_type": "markdown",
   "metadata": {},
   "source": [
    "## Imports"
   ]
  },
  {
   "cell_type": "code",
   "execution_count": 90,
   "metadata": {
    "ExecuteTime": {
     "end_time": "2020-05-31T15:31:32.208321Z",
     "start_time": "2020-05-31T15:31:14.573080Z"
    }
   },
   "outputs": [
    {
     "name": "stdout",
     "output_type": "stream",
     "text": [
      "Requirement already satisfied: Boruta in c:\\users\\nunoa\\anaconda3\\lib\\site-packages (0.3)\n",
      "Requirement already satisfied: scikit-learn>=0.17.1 in c:\\users\\nunoa\\anaconda3\\lib\\site-packages (from Boruta) (0.22.1)\n",
      "Requirement already satisfied: scipy>=0.17.0 in c:\\users\\nunoa\\anaconda3\\lib\\site-packages (from Boruta) (1.4.1)\n",
      "Requirement already satisfied: numpy>=1.10.4 in c:\\users\\nunoa\\anaconda3\\lib\\site-packages (from Boruta) (1.18.1)\n",
      "Requirement already satisfied: joblib>=0.11 in c:\\users\\nunoa\\anaconda3\\lib\\site-packages (from scikit-learn>=0.17.1->Boruta) (0.14.1)\n",
      "Requirement already satisfied: imblearn in c:\\users\\nunoa\\anaconda3\\lib\\site-packages (0.0)\n",
      "Requirement already satisfied: imbalanced-learn in c:\\users\\nunoa\\anaconda3\\lib\\site-packages (from imblearn) (0.6.2)\n",
      "Requirement already satisfied: scipy>=0.17 in c:\\users\\nunoa\\anaconda3\\lib\\site-packages (from imbalanced-learn->imblearn) (1.4.1)\n",
      "Requirement already satisfied: scikit-learn>=0.22 in c:\\users\\nunoa\\anaconda3\\lib\\site-packages (from imbalanced-learn->imblearn) (0.22.1)\n",
      "Requirement already satisfied: numpy>=1.11 in c:\\users\\nunoa\\anaconda3\\lib\\site-packages (from imbalanced-learn->imblearn) (1.18.1)\n",
      "Requirement already satisfied: joblib>=0.11 in c:\\users\\nunoa\\anaconda3\\lib\\site-packages (from imbalanced-learn->imblearn) (0.14.1)\n"
     ]
    }
   ],
   "source": [
    "from datetime import date\n",
    "from sklearn.preprocessing import RobustScaler, MinMaxScaler, StandardScaler\n",
    "from sklearn.neural_network import MLPClassifier\n",
    "from sklearn.linear_model import LogisticRegression\n",
    "from sklearn.neighbors import KNeighborsClassifier\n",
    "from sklearn.svm import SVC\n",
    "from sklearn.ensemble import RandomForestClassifier\n",
    "from sklearn.ensemble import BaggingClassifier\n",
    "from sklearn.ensemble import AdaBoostClassifier\n",
    "from sklearn.ensemble import GradientBoostingClassifier\n",
    "from sklearn.model_selection import GridSearchCV\n",
    "from sklearn.model_selection import train_test_split\n",
    "from sklearn.model_selection import cross_validate\n",
    "from sklearn.impute import SimpleImputer\n",
    "from sklearn.impute import KNNImputer\n",
    "import numpy as np\n",
    "import seaborn as sns\n",
    "import matplotlib.pyplot as plt\n",
    "import pandas as pd\n",
    "import warnings\n",
    "warnings.filterwarnings('ignore')\n",
    "!pip install Boruta\n",
    "from boruta import BorutaPy\n",
    "from sklearn.feature_selection import RFE\n",
    "!pip install imblearn\n",
    "from imblearn.over_sampling import SMOTE\n",
    "from pprint import pprint"
   ]
  },
  {
   "cell_type": "markdown",
   "metadata": {},
   "source": [
    "## <font color='##E8800A'>Data</font><a class=\"anchor\" id=\"second-bullet\"></a>\n",
    " [Back to TOC](#toc)"
   ]
  },
  {
   "cell_type": "markdown",
   "metadata": {},
   "source": [
    "### Training Data"
   ]
  },
  {
   "cell_type": "markdown",
   "metadata": {},
   "source": [
    "![alt text](train_snapshot.png \"Training Data\")"
   ]
  },
  {
   "cell_type": "markdown",
   "metadata": {},
   "source": [
    "__Data Fields:__\n",
    "\n",
    "`Patient_ID` - The unique identifier of the patient<br>\n",
    "`Family_Case_ID` - The family identification<br>\n",
    "`Severity` - The severity of the disease, where 1 is the lowest and 3 the highest severity<br>\n",
    "`Name` - The name of the patient<br>\n",
    "`Birthday_Year` - The year of birthday of the patient<br>\n",
    "`Parents or children infected` - The number of parents and/or siblings infected<br>\n",
    "`Wife/Husband or siblings infected` - The number of partner and/or children infected<br>\n",
    "`Medical_Expenses_Family` - The medical expenses associated to try to contain the epidemy on the family<br>\n",
    "`Medical_Tent` - The medical tent where the patient is / was lodged<br>\n",
    "`City` - The original city of the patient<br>\n",
    "`Deceased` - Flag if the patient deceased or not with the virus (0 = No, 1 = Yes)<br>\n",
    "<br>\n",
    "\n",
    "__Goal:__ Predict Deceased data field"
   ]
  },
  {
   "cell_type": "markdown",
   "metadata": {},
   "source": [
    "## <font color='#E8800A'>Functions</font> <a class=\"anchor\" id=\"third-bullet\"></a>\n",
    "  [Back to TOC](#toc)"
   ]
  },
  {
   "cell_type": "code",
   "execution_count": 91,
   "metadata": {
    "ExecuteTime": {
     "end_time": "2020-05-31T15:31:32.241113Z",
     "start_time": "2020-05-31T15:31:32.214094Z"
    }
   },
   "outputs": [],
   "source": [
    "def best_scaler(model, X, y):\n",
    "    \"\"\"\n",
    "    Function that receives a model, the independent variable and the label variable and applies cross validation\n",
    "    using different scalers(MinMax 0 to 1, MinMax -1 to 1, StandardScaler and RobustScaler) and no scaler and\n",
    "    returns a Plot with the accuraccy score obtained by each one.\n",
    "    \"\"\"\n",
    "\n",
    "    ### MinMaxScaler (-1,1)\n",
    "    # Create a MinMaxScaler instance that will range between -1 and 1 and fit the train data\n",
    "    min_max = MinMaxScaler(feature_range=(-1, 1)).fit(X)\n",
    "    # Transform train data\n",
    "    min_max_X = min_max.transform(X)\n",
    "    # Cross Validation\n",
    "    cv_results = cross_validate(\n",
    "    model, min_max_X, y, cv=5, scoring=[\"accuracy\"])\n",
    "    # Getting the acc\n",
    "    accuracy_min_max_1 = cv_results[\"test_accuracy\"].mean()\n",
    "\n",
    "    ### MinMaxScaler (0,1)\n",
    "    # Create a MinMaxScaler instance that will range between -1 and 1 and fit the train data\n",
    "    min_max1 = MinMaxScaler().fit(X)\n",
    "    # Transform train data\n",
    "    min_max_X_1 = min_max1.transform(X)\n",
    "    # Cross Validation\n",
    "    cv_results = cross_validate(\n",
    "    model, min_max_X_1, y, cv=5, scoring=[\"accuracy\"])\n",
    "    # Getting the acc\n",
    "    accuracy_min_max_01 = cv_results[\"test_accuracy\"].mean()\n",
    "\n",
    "    # Standard Scaler\n",
    "    # Create a StandardScaler instance\n",
    "    scaler = StandardScaler().fit(X)\n",
    "    # Transform train data\n",
    "    scaler_X = scaler.transform(X)\n",
    "    # Cross Validation\n",
    "    cv_results = cross_validate(model, scaler_X, y, cv=5, scoring=[\"accuracy\"])\n",
    "    # Getting the acc\n",
    "    accuracy_scaler = cv_results[\"test_accuracy\"].mean()\n",
    "\n",
    "    # RobustScaler\n",
    "    # Create a RobustScaler instance\n",
    "    robust = RobustScaler().fit(X)\n",
    "    # Transform train data\n",
    "    robust_X = robust.transform(X)\n",
    "    # Cross Validation\n",
    "    cv_results = cross_validate(model, robust_X, y, cv=5, scoring=[\"accuracy\"])\n",
    "    # Getting the acc\n",
    "    accuracy_robust = cv_results[\"test_accuracy\"].mean()\n",
    "    \n",
    "    # No scaler\n",
    "    cv_results = cross_validate(\n",
    "    model, X, y, cv=5, scoring=[\"accuracy\"])\n",
    "    # Getting the acc\n",
    "    accuracy = cv_results[\"test_accuracy\"].mean()\n",
    "\n",
    "    scaling_results = pd.DataFrame([accuracy_min_max_1, accuracy_min_max_01, accuracy_scaler, accuracy_robust, accuracy],\n",
    "                                   index=['MinMax (-1,1)', 'MinMax (0,1)', 'Standard', 'Robust', 'No Scaler'], columns=['Accuracy'])\n",
    "    \n",
    "    sns.set_style(\"darkgrid\")\n",
    "    sns.pointplot(x=scaling_results.index, y=scaling_results['Accuracy'],\n",
    "                  palette=['deepskyblue', 'lightcoral', 'limegreen', 'pink', 'black'])\n",
    "\n",
    "    return scaling_results, sns"
   ]
  },
  {
   "cell_type": "code",
   "execution_count": 92,
   "metadata": {
    "ExecuteTime": {
     "end_time": "2020-05-31T15:31:32.258108Z",
     "start_time": "2020-05-31T15:31:32.248122Z"
    }
   },
   "outputs": [],
   "source": [
    "def calculateAge(df): \n",
    "    \"\"\"\n",
    "    Function that receives a Year column and calculates the age based on todays year.\n",
    "    \"\"\"\n",
    "    today = date.today() \n",
    "    \n",
    "    for x in df:\n",
    "        age = today.year - df \n",
    "  \n",
    "    return age"
   ]
  },
  {
   "cell_type": "code",
   "execution_count": 93,
   "metadata": {
    "ExecuteTime": {
     "end_time": "2020-05-31T15:31:32.274462Z",
     "start_time": "2020-05-31T15:31:32.264107Z"
    }
   },
   "outputs": [],
   "source": [
    "def get_counts(df, column):\n",
    "    \"\"\"\n",
    "    Function that receives a df and a column and returns the count of the number of rows with the same family_case_ID. \n",
    "    \"\"\"\n",
    "    \n",
    "    serie = df[column]\n",
    "    \n",
    "    aux = serie.value_counts()\n",
    "    \n",
    "    for family_case in serie:\n",
    "        count = aux.loc[family_case]\n",
    "    return count  "
   ]
  },
  {
   "cell_type": "markdown",
   "metadata": {},
   "source": [
    "---"
   ]
  },
  {
   "cell_type": "markdown",
   "metadata": {},
   "source": [
    "## <font color='##E8800A'>Evaluation</font><a class=\"anchor\" id=\"fourth-bullet\"></a>\n",
    " [Back to TOC](#toc)"
   ]
  },
  {
   "cell_type": "markdown",
   "metadata": {},
   "source": [
    "Model Assessment will be done using the accuracy metric"
   ]
  },
  {
   "cell_type": "markdown",
   "metadata": {},
   "source": [
    "![alt text](accuracy_snapshot.png \"Accuracy formula\")"
   ]
  },
  {
   "cell_type": "markdown",
   "metadata": {},
   "source": [
    "---"
   ]
  },
  {
   "cell_type": "markdown",
   "metadata": {},
   "source": [
    "\n",
    "# <font color='##E8800A'>Development Method</font><a class=\"anchor\" id=\"fifth-bullet\"></a>\n",
    " [Back to TOC](#toc)<br>\n",
    " \n",
    "This Project will be developed using the **SEMMA** Methodology.\n",
    "\n",
    "**S** - Sample <br>\n",
    "**E** - Explore <br>\n",
    "**M** - Modify <br>\n",
    "**M** - Model <br>\n",
    "**A** - Assess <br>"
   ]
  },
  {
   "cell_type": "markdown",
   "metadata": {},
   "source": [
    "## Sample"
   ]
  },
  {
   "cell_type": "markdown",
   "metadata": {},
   "source": [
    "### Train"
   ]
  },
  {
   "cell_type": "code",
   "execution_count": 94,
   "metadata": {
    "ExecuteTime": {
     "end_time": "2020-05-31T15:31:32.347257Z",
     "start_time": "2020-05-31T15:31:32.280468Z"
    }
   },
   "outputs": [
    {
     "data": {
      "text/html": [
       "<div>\n",
       "<style scoped>\n",
       "    .dataframe tbody tr th:only-of-type {\n",
       "        vertical-align: middle;\n",
       "    }\n",
       "\n",
       "    .dataframe tbody tr th {\n",
       "        vertical-align: top;\n",
       "    }\n",
       "\n",
       "    .dataframe thead th {\n",
       "        text-align: right;\n",
       "    }\n",
       "</style>\n",
       "<table border=\"1\" class=\"dataframe\">\n",
       "  <thead>\n",
       "    <tr style=\"text-align: right;\">\n",
       "      <th></th>\n",
       "      <th>Patient_ID</th>\n",
       "      <th>Family_Case_ID</th>\n",
       "      <th>Severity</th>\n",
       "      <th>Name</th>\n",
       "      <th>Birthday_year</th>\n",
       "      <th>Parents or siblings infected</th>\n",
       "      <th>Wife/Husband or children infected</th>\n",
       "      <th>Medical_Expenses_Family</th>\n",
       "      <th>Medical_Tent</th>\n",
       "      <th>City</th>\n",
       "      <th>Deceased</th>\n",
       "    </tr>\n",
       "  </thead>\n",
       "  <tbody>\n",
       "    <tr>\n",
       "      <th>0</th>\n",
       "      <td>1</td>\n",
       "      <td>4696</td>\n",
       "      <td>3</td>\n",
       "      <td>Miss Linda Betty</td>\n",
       "      <td>NaN</td>\n",
       "      <td>0</td>\n",
       "      <td>0</td>\n",
       "      <td>225</td>\n",
       "      <td>NaN</td>\n",
       "      <td>Santa Fe</td>\n",
       "      <td>1</td>\n",
       "    </tr>\n",
       "    <tr>\n",
       "      <th>1</th>\n",
       "      <td>2</td>\n",
       "      <td>21436</td>\n",
       "      <td>1</td>\n",
       "      <td>Ms. Ramona Elvira</td>\n",
       "      <td>1966.0</td>\n",
       "      <td>0</td>\n",
       "      <td>1</td>\n",
       "      <td>1663</td>\n",
       "      <td>NaN</td>\n",
       "      <td>Albuquerque</td>\n",
       "      <td>0</td>\n",
       "    </tr>\n",
       "    <tr>\n",
       "      <th>2</th>\n",
       "      <td>3</td>\n",
       "      <td>7273</td>\n",
       "      <td>3</td>\n",
       "      <td>Mr. Mario Vernon</td>\n",
       "      <td>1982.0</td>\n",
       "      <td>0</td>\n",
       "      <td>0</td>\n",
       "      <td>221</td>\n",
       "      <td>NaN</td>\n",
       "      <td>Santa Fe</td>\n",
       "      <td>1</td>\n",
       "    </tr>\n",
       "    <tr>\n",
       "      <th>3</th>\n",
       "      <td>4</td>\n",
       "      <td>8226</td>\n",
       "      <td>3</td>\n",
       "      <td>Mr. Hector Joe</td>\n",
       "      <td>1997.0</td>\n",
       "      <td>0</td>\n",
       "      <td>0</td>\n",
       "      <td>220</td>\n",
       "      <td>NaN</td>\n",
       "      <td>Santa Fe</td>\n",
       "      <td>1</td>\n",
       "    </tr>\n",
       "    <tr>\n",
       "      <th>4</th>\n",
       "      <td>5</td>\n",
       "      <td>19689</td>\n",
       "      <td>3</td>\n",
       "      <td>Ms. Jennie Debra</td>\n",
       "      <td>1994.0</td>\n",
       "      <td>0</td>\n",
       "      <td>0</td>\n",
       "      <td>222</td>\n",
       "      <td>NaN</td>\n",
       "      <td>Santa Fe</td>\n",
       "      <td>0</td>\n",
       "    </tr>\n",
       "    <tr>\n",
       "      <th>...</th>\n",
       "      <td>...</td>\n",
       "      <td>...</td>\n",
       "      <td>...</td>\n",
       "      <td>...</td>\n",
       "      <td>...</td>\n",
       "      <td>...</td>\n",
       "      <td>...</td>\n",
       "      <td>...</td>\n",
       "      <td>...</td>\n",
       "      <td>...</td>\n",
       "      <td>...</td>\n",
       "    </tr>\n",
       "    <tr>\n",
       "      <th>895</th>\n",
       "      <td>896</td>\n",
       "      <td>6253</td>\n",
       "      <td>3</td>\n",
       "      <td>Ms. Linda Wilcox</td>\n",
       "      <td>1998.0</td>\n",
       "      <td>1</td>\n",
       "      <td>1</td>\n",
       "      <td>344</td>\n",
       "      <td>NaN</td>\n",
       "      <td>Santa Fe</td>\n",
       "      <td>0</td>\n",
       "    </tr>\n",
       "    <tr>\n",
       "      <th>896</th>\n",
       "      <td>897</td>\n",
       "      <td>6483</td>\n",
       "      <td>3</td>\n",
       "      <td>Mr. Haiden Vance</td>\n",
       "      <td>2006.0</td>\n",
       "      <td>0</td>\n",
       "      <td>0</td>\n",
       "      <td>258</td>\n",
       "      <td>NaN</td>\n",
       "      <td>Santa Fe</td>\n",
       "      <td>0</td>\n",
       "    </tr>\n",
       "    <tr>\n",
       "      <th>897</th>\n",
       "      <td>898</td>\n",
       "      <td>981</td>\n",
       "      <td>3</td>\n",
       "      <td>Miss Anaiya Love</td>\n",
       "      <td>1990.0</td>\n",
       "      <td>0</td>\n",
       "      <td>0</td>\n",
       "      <td>214</td>\n",
       "      <td>NaN</td>\n",
       "      <td>Taos</td>\n",
       "      <td>1</td>\n",
       "    </tr>\n",
       "    <tr>\n",
       "      <th>898</th>\n",
       "      <td>899</td>\n",
       "      <td>16418</td>\n",
       "      <td>2</td>\n",
       "      <td>Mr. Robert Williams</td>\n",
       "      <td>1994.0</td>\n",
       "      <td>1</td>\n",
       "      <td>1</td>\n",
       "      <td>812</td>\n",
       "      <td>NaN</td>\n",
       "      <td>Santa Fe</td>\n",
       "      <td>0</td>\n",
       "    </tr>\n",
       "    <tr>\n",
       "      <th>899</th>\n",
       "      <td>900</td>\n",
       "      <td>3782</td>\n",
       "      <td>3</td>\n",
       "      <td>Ms. Marjorie Hays</td>\n",
       "      <td>2002.0</td>\n",
       "      <td>0</td>\n",
       "      <td>0</td>\n",
       "      <td>202</td>\n",
       "      <td>C</td>\n",
       "      <td>Albuquerque</td>\n",
       "      <td>0</td>\n",
       "    </tr>\n",
       "  </tbody>\n",
       "</table>\n",
       "<p>900 rows × 11 columns</p>\n",
       "</div>"
      ],
      "text/plain": [
       "     Patient_ID  Family_Case_ID  Severity                 Name  Birthday_year  \\\n",
       "0             1            4696         3     Miss Linda Betty            NaN   \n",
       "1             2           21436         1    Ms. Ramona Elvira         1966.0   \n",
       "2             3            7273         3     Mr. Mario Vernon         1982.0   \n",
       "3             4            8226         3       Mr. Hector Joe         1997.0   \n",
       "4             5           19689         3     Ms. Jennie Debra         1994.0   \n",
       "..          ...             ...       ...                  ...            ...   \n",
       "895         896            6253         3     Ms. Linda Wilcox         1998.0   \n",
       "896         897            6483         3     Mr. Haiden Vance         2006.0   \n",
       "897         898             981         3     Miss Anaiya Love         1990.0   \n",
       "898         899           16418         2  Mr. Robert Williams         1994.0   \n",
       "899         900            3782         3    Ms. Marjorie Hays         2002.0   \n",
       "\n",
       "     Parents or siblings infected  Wife/Husband or children infected  \\\n",
       "0                               0                                  0   \n",
       "1                               0                                  1   \n",
       "2                               0                                  0   \n",
       "3                               0                                  0   \n",
       "4                               0                                  0   \n",
       "..                            ...                                ...   \n",
       "895                             1                                  1   \n",
       "896                             0                                  0   \n",
       "897                             0                                  0   \n",
       "898                             1                                  1   \n",
       "899                             0                                  0   \n",
       "\n",
       "     Medical_Expenses_Family Medical_Tent         City  Deceased  \n",
       "0                        225          NaN     Santa Fe         1  \n",
       "1                       1663          NaN  Albuquerque         0  \n",
       "2                        221          NaN     Santa Fe         1  \n",
       "3                        220          NaN     Santa Fe         1  \n",
       "4                        222          NaN     Santa Fe         0  \n",
       "..                       ...          ...          ...       ...  \n",
       "895                      344          NaN     Santa Fe         0  \n",
       "896                      258          NaN     Santa Fe         0  \n",
       "897                      214          NaN         Taos         1  \n",
       "898                      812          NaN     Santa Fe         0  \n",
       "899                      202            C  Albuquerque         0  \n",
       "\n",
       "[900 rows x 11 columns]"
      ]
     },
     "execution_count": 94,
     "metadata": {},
     "output_type": "execute_result"
    }
   ],
   "source": [
    "train = pd.read_csv(\"train.csv\")\n",
    "\n",
    "train"
   ]
  },
  {
   "cell_type": "markdown",
   "metadata": {},
   "source": [
    "The dataset contains 900 rows and 11 columns."
   ]
  },
  {
   "cell_type": "markdown",
   "metadata": {},
   "source": [
    "## <font color='##E8800A'>Explore</font><a class=\"anchor\" id=\"sixth-bullet\"></a>\n",
    " [Back to TOC](#toc)<br>"
   ]
  },
  {
   "cell_type": "code",
   "execution_count": 95,
   "metadata": {
    "ExecuteTime": {
     "end_time": "2020-05-31T15:31:32.378865Z",
     "start_time": "2020-05-31T15:31:32.354868Z"
    },
    "scrolled": true
   },
   "outputs": [
    {
     "name": "stdout",
     "output_type": "stream",
     "text": [
      "<class 'pandas.core.frame.DataFrame'>\n",
      "RangeIndex: 900 entries, 0 to 899\n",
      "Data columns (total 11 columns):\n",
      " #   Column                             Non-Null Count  Dtype  \n",
      "---  ------                             --------------  -----  \n",
      " 0   Patient_ID                         900 non-null    int64  \n",
      " 1   Family_Case_ID                     900 non-null    int64  \n",
      " 2   Severity                           900 non-null    int64  \n",
      " 3   Name                               900 non-null    object \n",
      " 4   Birthday_year                      723 non-null    float64\n",
      " 5   Parents or siblings infected       900 non-null    int64  \n",
      " 6   Wife/Husband or children infected  900 non-null    int64  \n",
      " 7   Medical_Expenses_Family            900 non-null    int64  \n",
      " 8   Medical_Tent                       198 non-null    object \n",
      " 9   City                               898 non-null    object \n",
      " 10  Deceased                           900 non-null    int64  \n",
      "dtypes: float64(1), int64(7), object(3)\n",
      "memory usage: 77.5+ KB\n"
     ]
    }
   ],
   "source": [
    "train.info()"
   ]
  },
  {
   "cell_type": "code",
   "execution_count": 96,
   "metadata": {
    "ExecuteTime": {
     "end_time": "2020-05-31T15:31:32.413088Z",
     "start_time": "2020-05-31T15:31:32.385777Z"
    }
   },
   "outputs": [
    {
     "data": {
      "text/html": [
       "<div>\n",
       "<style scoped>\n",
       "    .dataframe tbody tr th:only-of-type {\n",
       "        vertical-align: middle;\n",
       "    }\n",
       "\n",
       "    .dataframe tbody tr th {\n",
       "        vertical-align: top;\n",
       "    }\n",
       "\n",
       "    .dataframe thead th {\n",
       "        text-align: right;\n",
       "    }\n",
       "</style>\n",
       "<table border=\"1\" class=\"dataframe\">\n",
       "  <thead>\n",
       "    <tr style=\"text-align: right;\">\n",
       "      <th></th>\n",
       "      <th>column_name</th>\n",
       "      <th>percent_missing</th>\n",
       "    </tr>\n",
       "  </thead>\n",
       "  <tbody>\n",
       "    <tr>\n",
       "      <th>Patient_ID</th>\n",
       "      <td>Patient_ID</td>\n",
       "      <td>0.000000</td>\n",
       "    </tr>\n",
       "    <tr>\n",
       "      <th>Family_Case_ID</th>\n",
       "      <td>Family_Case_ID</td>\n",
       "      <td>0.000000</td>\n",
       "    </tr>\n",
       "    <tr>\n",
       "      <th>Severity</th>\n",
       "      <td>Severity</td>\n",
       "      <td>0.000000</td>\n",
       "    </tr>\n",
       "    <tr>\n",
       "      <th>Name</th>\n",
       "      <td>Name</td>\n",
       "      <td>0.000000</td>\n",
       "    </tr>\n",
       "    <tr>\n",
       "      <th>Birthday_year</th>\n",
       "      <td>Birthday_year</td>\n",
       "      <td>19.666667</td>\n",
       "    </tr>\n",
       "    <tr>\n",
       "      <th>Parents or siblings infected</th>\n",
       "      <td>Parents or siblings infected</td>\n",
       "      <td>0.000000</td>\n",
       "    </tr>\n",
       "    <tr>\n",
       "      <th>Wife/Husband or children infected</th>\n",
       "      <td>Wife/Husband or children infected</td>\n",
       "      <td>0.000000</td>\n",
       "    </tr>\n",
       "    <tr>\n",
       "      <th>Medical_Expenses_Family</th>\n",
       "      <td>Medical_Expenses_Family</td>\n",
       "      <td>0.000000</td>\n",
       "    </tr>\n",
       "    <tr>\n",
       "      <th>Medical_Tent</th>\n",
       "      <td>Medical_Tent</td>\n",
       "      <td>78.000000</td>\n",
       "    </tr>\n",
       "    <tr>\n",
       "      <th>City</th>\n",
       "      <td>City</td>\n",
       "      <td>0.222222</td>\n",
       "    </tr>\n",
       "    <tr>\n",
       "      <th>Deceased</th>\n",
       "      <td>Deceased</td>\n",
       "      <td>0.000000</td>\n",
       "    </tr>\n",
       "  </tbody>\n",
       "</table>\n",
       "</div>"
      ],
      "text/plain": [
       "                                                         column_name  \\\n",
       "Patient_ID                                                Patient_ID   \n",
       "Family_Case_ID                                        Family_Case_ID   \n",
       "Severity                                                    Severity   \n",
       "Name                                                            Name   \n",
       "Birthday_year                                          Birthday_year   \n",
       "Parents or siblings infected            Parents or siblings infected   \n",
       "Wife/Husband or children infected  Wife/Husband or children infected   \n",
       "Medical_Expenses_Family                      Medical_Expenses_Family   \n",
       "Medical_Tent                                            Medical_Tent   \n",
       "City                                                            City   \n",
       "Deceased                                                    Deceased   \n",
       "\n",
       "                                   percent_missing  \n",
       "Patient_ID                                0.000000  \n",
       "Family_Case_ID                            0.000000  \n",
       "Severity                                  0.000000  \n",
       "Name                                      0.000000  \n",
       "Birthday_year                            19.666667  \n",
       "Parents or siblings infected              0.000000  \n",
       "Wife/Husband or children infected         0.000000  \n",
       "Medical_Expenses_Family                   0.000000  \n",
       "Medical_Tent                             78.000000  \n",
       "City                                      0.222222  \n",
       "Deceased                                  0.000000  "
      ]
     },
     "execution_count": 96,
     "metadata": {},
     "output_type": "execute_result"
    }
   ],
   "source": [
    "percent_missing = train.isnull().sum() * 100 / len(train)\n",
    "\n",
    "missing_value_train = pd.DataFrame({'column_name': train.columns,\n",
    "                                    'percent_missing': percent_missing})\n",
    "missing_value_train"
   ]
  },
  {
   "cell_type": "markdown",
   "metadata": {},
   "source": [
    "**Observation**\n",
    "\n",
    "* `Birthday_year` has some missing values (19.6%).\n",
    "* `Medical_Tent`  has with 78% a **substential** amount of missing values.\n",
    "* `City` has just 2 missing values."
   ]
  },
  {
   "cell_type": "code",
   "execution_count": 97,
   "metadata": {
    "ExecuteTime": {
     "end_time": "2020-05-31T15:31:33.764978Z",
     "start_time": "2020-05-31T15:31:32.421086Z"
    },
    "scrolled": false
   },
   "outputs": [
    {
     "data": {
      "text/plain": [
       "<matplotlib.axes._subplots.AxesSubplot at 0x2570bb95088>"
      ]
     },
     "execution_count": 97,
     "metadata": {},
     "output_type": "execute_result"
    },
    {
     "data": {
      "image/png": "[encoded data removed]",
      "text/plain": [
       "<Figure size 648x504 with 2 Axes>"
      ]
     },
     "metadata": {},
     "output_type": "display_data"
    }
   ],
   "source": [
    "# Checking the correlation between variables\n",
    "corr = train.corr(method='spearman')\n",
    "\n",
    "plt.figure(figsize=(9, 7))\n",
    "sns.heatmap(corr, annot=True, cmap='Greens', linewidths=.5, fmt='.1g')"
   ]
  },
  {
   "cell_type": "markdown",
   "metadata": {},
   "source": [
    "**Interpretation**\n",
    "\n",
    "Assuming a 0.8 threshold no variables are correlated with each other.\n",
    "\n",
    "The following looks at how different variables are distributed. <br>\n"
   ]
  },
  {
   "cell_type": "code",
   "execution_count": 99,
   "metadata": {
    "ExecuteTime": {
     "end_time": "2020-05-31T15:32:11.677748Z",
     "start_time": "2020-05-31T15:32:06.731570Z"
    },
    "scrolled": false
   },
   "outputs": [
    {
     "data": {
      "text/plain": [
       "<matplotlib.axes._subplots.AxesSubplot at 0x2570c6b4248>"
      ]
     },
     "execution_count": 99,
     "metadata": {},
     "output_type": "execute_result"
    },
    {
     "data": {
      "image/png": "[encoded data removed]",
      "text/plain": [
       "<Figure size 1296x1584 with 10 Axes>"
      ]
     },
     "metadata": {},
     "output_type": "display_data"
    }
   ],
   "source": [
    "sns.set_style(\"darkgrid\")\n",
    "palette = ['darkseagreen', 'lightcoral']\n",
    "sns.set_palette(palette)\n",
    "\n",
    "f = plt.figure(figsize=(18, 22))\n",
    "gs = f.add_gridspec(5, 2)\n",
    "\n",
    "ax = f.add_subplot(gs[0, 0])\n",
    "sns.boxplot(data=train, x='Severity', orient='h')\n",
    "\n",
    "ax = f.add_subplot(gs[0, 1])\n",
    "sns.countplot(x='Severity', data=train, palette=sns.color_palette(\"Set2\"))\n",
    "\n",
    "ax = f.add_subplot(gs[1, 0])\n",
    "sns.boxplot(data=train, x='Parents or siblings infected',  orient='h')\n",
    "\n",
    "ax = f.add_subplot(gs[1, 1])\n",
    "sns.countplot(x='Parents or siblings infected', data=train, palette=sns.color_palette(\"Set2\"))\n",
    "\n",
    "ax = f.add_subplot(gs[2, 0])\n",
    "sns.boxplot(data=train, x='Wife/Husband or children infected', orient='h')\n",
    "\n",
    "ax = f.add_subplot(gs[2, 1])\n",
    "sns.countplot(x='Wife/Husband or children infected', data=train, palette=sns.color_palette(\"Set2\"))\n",
    "\n",
    "ax = f.add_subplot(gs[3, 0])\n",
    "sns.boxplot(data=train, x='Medical_Expenses_Family', orient='h')\n",
    "\n",
    "ax = f.add_subplot(gs[3, 1])\n",
    "sns.countplot(data=train, x='City', palette=sns.color_palette(\"Set2\"))\n",
    "\n",
    "ax = f.add_subplot(gs[4, 0])\n",
    "sns.boxplot(data=train, x='Birthday_year',  orient='h')\n",
    "\n",
    "ax = f.add_subplot(gs[4, 1])\n",
    "sns.countplot(data=train, x='Deceased')"
   ]
  },
  {
   "cell_type": "markdown",
   "metadata": {},
   "source": [
    "**Interpretation**\n",
    "\n",
    "- `Severity` shows a stronger concentration of values between \"2\" and \"3\"\n",
    "- `Birthday Year` seems fairly normally distributed with a few outliers\n",
    "- `Parents or siblings infected`, `Wife/Husband or children infected` Boxplots are difficult to interpret as far as identification of outliers. For that reason only the most extreme values will be removed.\n",
    "- `Medical_Expenses_Family` shows a skewed distribution and has a lot of values outside of the 'whiskers' of the Boxplot. These values can not be considered outliers. Plus, the dataset is really small and removing a lot of observations  makes it harder to train the model. For these reasons only the most extreme values will be removed.<br>\n",
    "- `City` is dominated by \"Santa Fe\", while Albuquerque and Taos are significantly under-represented in the dataset\n",
    "- `Deceased`shows a much bigger proportion of the dataset as 1 (being deceased). This shows an imbalanced classification problem and techniques to deal with this problem are going to be used (e.g. Oversampling)."
   ]
  },
  {
   "cell_type": "markdown",
   "metadata": {},
   "source": [
    "**Conclusions that can be drawn from the exploration phase**\n",
    "\n",
    "The data exploration phase revealed that missing values are high in birthday year and medical tent. Here the missing values could be imputed or deleted respectively in the upcoming modify step. Further, a generally low correlation between variables can be observed, which indicates possible difficulties to detect relationships between different variables, for example for merging suitable already existing features. In regards to the feature variables and the target variable both show imbalanced data, which has to be dealt with through sampling techniques.<br>\n",
    "Therefore, the insights drawn will be applied in the following steps of this notebook."
   ]
  },
  {
   "cell_type": "markdown",
   "metadata": {},
   "source": [
    "## <font color='#E8800A'>Modifiy</font> <a class=\"anchor\" id=\"eighth-bullet\"></a>\n",
    "  [Back to TOC](#toc)<br>"
   ]
  },
  {
   "cell_type": "markdown",
   "metadata": {},
   "source": [
    "### Removing outliers"
   ]
  },
  {
   "cell_type": "markdown",
   "metadata": {},
   "source": [
    "The outliers are removed using a threshold.\n",
    "\n",
    "Columns:\n",
    " * `Wife/Husband or children infected` - Values bigger than 6 will be removed.\n",
    " * `Medical_Expenses_Family` - Values bigger than 12000 will be removed.\n",
    " * `Birthday_year` - Values lower than 1943 will be removed."
   ]
  },
  {
   "cell_type": "code",
   "execution_count": 31,
   "metadata": {
    "ExecuteTime": {
     "end_time": "2020-05-31T15:18:17.831400Z",
     "start_time": "2020-05-31T15:18:17.809964Z"
    }
   },
   "outputs": [],
   "source": [
    "train = train.loc[train['Wife/Husband or children infected'] <= 6]\n",
    "\n",
    "train = train.loc[train['Medical_Expenses_Family'] <= 12000]\n",
    "\n",
    "train = train.loc[(train['Birthday_year'] >= 1943) |\n",
    "                  ((train['Birthday_year'].isna()))]"
   ]
  },
  {
   "cell_type": "markdown",
   "metadata": {},
   "source": [
    "### Dropping Patient_ID and Medical_Tent column"
   ]
  },
  {
   "cell_type": "markdown",
   "metadata": {},
   "source": [
    "For the model training we will not be needing the 'Patient_ID' Column.<br>\n",
    "'Medical_Tent' column has a lot of missing values and for that reason it will be dropped."
   ]
  },
  {
   "cell_type": "code",
   "execution_count": 32,
   "metadata": {
    "ExecuteTime": {
     "end_time": "2020-05-31T15:18:17.851991Z",
     "start_time": "2020-05-31T15:18:17.838026Z"
    }
   },
   "outputs": [],
   "source": [
    "train = train.drop(columns=[\"Patient_ID\", \"Medical_Tent\"], axis=1)"
   ]
  },
  {
   "cell_type": "markdown",
   "metadata": {},
   "source": [
    "### Changing Column Names"
   ]
  },
  {
   "cell_type": "markdown",
   "metadata": {},
   "source": [
    "The columns names were wrong."
   ]
  },
  {
   "cell_type": "code",
   "execution_count": 33,
   "metadata": {
    "ExecuteTime": {
     "end_time": "2020-05-31T15:18:17.869987Z",
     "start_time": "2020-05-31T15:18:17.858391Z"
    }
   },
   "outputs": [],
   "source": [
    "train = train.rename(columns={\"Parents or siblings infected\": \"Parents or children infected\",\n",
    "                              \"Wife/Husband or children infected\": \"Wife/Husband or siblings infected\"})"
   ]
  },
  {
   "cell_type": "markdown",
   "metadata": {},
   "source": [
    "### Changing Name Column with Gender"
   ]
  },
  {
   "cell_type": "markdown",
   "metadata": {},
   "source": [
    "Name column didn´t bring any valuable general information for the classification task. This was replaced with the gender that was obtained by the first characters in the name string(Ms., Mrs., Miss, Mr., Master)."
   ]
  },
  {
   "cell_type": "code",
   "execution_count": 34,
   "metadata": {
    "ExecuteTime": {
     "end_time": "2020-05-31T15:18:17.905119Z",
     "start_time": "2020-05-31T15:18:17.876919Z"
    }
   },
   "outputs": [],
   "source": [
    "train['Name'] = train['Name'].str.replace('^(Ms.|Mrs.|Miss)', 'F').str[0]\n",
    "train['Name'] = train['Name'].str.replace('^(Mr.|Master)', 'M').str[0]\n",
    "\n",
    "train = train.rename(columns={\"Name\": \"Gender\"})"
   ]
  },
  {
   "cell_type": "markdown",
   "metadata": {},
   "source": [
    "### Handling City Column Missing Values"
   ]
  },
  {
   "cell_type": "markdown",
   "metadata": {},
   "source": [
    "City column had 2 missing values and they were imputed using the most frequent value. Since 2 observations is a really small percentage of the dataset, the imputing technique used here will not change the performance of the model."
   ]
  },
  {
   "cell_type": "code",
   "execution_count": 35,
   "metadata": {
    "ExecuteTime": {
     "end_time": "2020-05-31T15:18:17.933431Z",
     "start_time": "2020-05-31T15:18:17.911078Z"
    }
   },
   "outputs": [],
   "source": [
    "# Imputing City column missing values with the most frequent\n",
    "\n",
    "imp_mf = SimpleImputer(missing_values=np.nan, strategy='most_frequent')\n",
    "\n",
    "train['City'] = imp_mf.fit_transform(train[['City']]).ravel()"
   ]
  },
  {
   "cell_type": "markdown",
   "metadata": {},
   "source": [
    "### One-hot encoding categorical variables"
   ]
  },
  {
   "cell_type": "markdown",
   "metadata": {},
   "source": [
    "'Gender' and 'City' columns need to be one-hot encoded to be fed to the classifiers. Since gender and city values have no real order the one-hot encoding technique is the most correct one to use."
   ]
  },
  {
   "cell_type": "code",
   "execution_count": 36,
   "metadata": {
    "ExecuteTime": {
     "end_time": "2020-05-31T15:18:17.969577Z",
     "start_time": "2020-05-31T15:18:17.941424Z"
    }
   },
   "outputs": [],
   "source": [
    "cat = ['Gender', 'City']\n",
    "\n",
    "new_cat = [col for col in cat if col in train.columns]\n",
    "\n",
    "train = pd.get_dummies(data=train, columns=new_cat)"
   ]
  },
  {
   "cell_type": "markdown",
   "metadata": {},
   "source": [
    "### Separating feature and label variables"
   ]
  },
  {
   "cell_type": "markdown",
   "metadata": {},
   "source": [
    "Since there are few records in the DataFrame we will be using **Cross Validation** to better estimate the results of our model instead of the typical train/test split."
   ]
  },
  {
   "cell_type": "code",
   "execution_count": 37,
   "metadata": {
    "ExecuteTime": {
     "end_time": "2020-05-31T15:18:17.990263Z",
     "start_time": "2020-05-31T15:18:17.975532Z"
    }
   },
   "outputs": [],
   "source": [
    "X = train.drop(['Deceased'], axis=1)\n",
    "y = train['Deceased']"
   ]
  },
  {
   "cell_type": "markdown",
   "metadata": {},
   "source": [
    "### Handling Birthday_year Column Missing Values"
   ]
  },
  {
   "cell_type": "markdown",
   "metadata": {},
   "source": [
    "'Birthday_year' Column Missing values will be dealt using a KNNImputer. This technique seems to us the most adequate one to be used in this situation. A KNeighborsRegressor was also attempted but after evaluation the R squared of the estimator we concluded that it wasn´t the best option since the R squared obtained was negative, which means that fitting an horizontal line to the observations would give better results."
   ]
  },
  {
   "cell_type": "code",
   "execution_count": 38,
   "metadata": {
    "ExecuteTime": {
     "end_time": "2020-05-31T15:18:18.044314Z",
     "start_time": "2020-05-31T15:18:17.997418Z"
    },
    "scrolled": true
   },
   "outputs": [],
   "source": [
    "# Imputing Birthday_year column using knn\n",
    "\n",
    "knn_imp = KNNImputer(missing_values=np.nan, n_neighbors=5, weights='distance')\n",
    "\n",
    "data = knn_imp.fit_transform(X)\n",
    "\n",
    "X = pd.DataFrame(data = data, columns = X.columns)"
   ]
  },
  {
   "cell_type": "markdown",
   "metadata": {},
   "source": [
    "### Creating new variables"
   ]
  },
  {
   "cell_type": "markdown",
   "metadata": {},
   "source": [
    "New variables were created in order to increase the score of the model.\n",
    " * `Medical_Expenses_Family/age` - The value spent by age.\n",
    " * `Severity/age` - The severity of the decease by age.\n",
    " * `Medical_Expenses_Family/Number_of_family_members` - The average expenses by family member. "
   ]
  },
  {
   "cell_type": "code",
   "execution_count": 39,
   "metadata": {
    "ExecuteTime": {
     "end_time": "2020-05-31T15:18:18.796769Z",
     "start_time": "2020-05-31T15:18:18.050787Z"
    }
   },
   "outputs": [],
   "source": [
    "X['Medical_Expenses_Family/age'] = X['Medical_Expenses_Family']/calculateAge(X[\"Birthday_year\"])\n",
    "\n",
    "X['Severity/age'] = X['Severity']/calculateAge(X[\"Birthday_year\"])\n",
    "\n",
    "X['Medical_Expenses_Family/Number_of_family_members'] = X['Medical_Expenses_Family']/get_counts(X,'Family_Case_ID')"
   ]
  },
  {
   "cell_type": "markdown",
   "metadata": {},
   "source": [
    "### Dropping Family_Case_ID"
   ]
  },
  {
   "cell_type": "markdown",
   "metadata": {},
   "source": [
    "For the model training we will not be needing the 'Family_Case_ID' Column."
   ]
  },
  {
   "cell_type": "code",
   "execution_count": 40,
   "metadata": {
    "ExecuteTime": {
     "end_time": "2020-05-31T15:18:18.813004Z",
     "start_time": "2020-05-31T15:18:18.801721Z"
    }
   },
   "outputs": [],
   "source": [
    "X = X.drop(columns=[\"Family_Case_ID\"], axis=1)"
   ]
  },
  {
   "cell_type": "markdown",
   "metadata": {},
   "source": [
    "### SMOTE "
   ]
  },
  {
   "cell_type": "markdown",
   "metadata": {},
   "source": [
    "Since the classes are imbalanced SMOTE will be used to balance the proportion of the target variable, making it easier to classify the minority class."
   ]
  },
  {
   "cell_type": "code",
   "execution_count": 41,
   "metadata": {
    "ExecuteTime": {
     "end_time": "2020-05-31T15:18:18.854975Z",
     "start_time": "2020-05-31T15:18:18.819952Z"
    }
   },
   "outputs": [],
   "source": [
    "smote = SMOTE(random_state=150, k_neighbors=4)\n",
    "\n",
    "X, y = smote.fit_resample(X, y)"
   ]
  },
  {
   "cell_type": "markdown",
   "metadata": {},
   "source": [
    "### Feature Engineering"
   ]
  },
  {
   "cell_type": "markdown",
   "metadata": {},
   "source": [
    "Feature Engineering will be used to test which variables are valuable to the model."
   ]
  },
  {
   "cell_type": "markdown",
   "metadata": {},
   "source": [
    "**Boruta**"
   ]
  },
  {
   "cell_type": "markdown",
   "metadata": {},
   "source": [
    "**Algorithm Explanation**<br>\n",
    "The Boruta algorithm supports the feature selection by finding important features of interest, which are needed to build a good model with good accuracy. It is a wrapper algorithm around Random Forest. It shuffles copies of all features to make the data more random.<br>\n",
    "In the second step, it trains a Random Forest Classifier on the dataset (all features and their copies). Using Mean Decrease Accuracy it evaluates the importance of each feature. The higher it is the more important. <br>\n",
    "Further, every iteration Boruta checks it the real feature has higher importance than any of its shadow features (using the z-score) and removes the features that are identified as unimportant. <br>\n",
    "At last, the algorithm stops once all features are classified as rejected or accepted or if the Random Forest has a pre-defined limit of runs.<br>\n",
    "https://www.analyticsvidhya.com/blog/2016/03/select-important-variables-boruta-package/"
   ]
  },
  {
   "cell_type": "code",
   "execution_count": 42,
   "metadata": {
    "ExecuteTime": {
     "end_time": "2020-05-31T15:18:49.571279Z",
     "start_time": "2020-05-31T15:18:18.862015Z"
    },
    "scrolled": true
   },
   "outputs": [
    {
     "data": {
      "text/plain": [
       "Severity                                             True\n",
       "Birthday_year                                        True\n",
       "Parents or children infected                        False\n",
       "Wife/Husband or siblings infected                    True\n",
       "Medical_Expenses_Family                              True\n",
       "Gender_F                                             True\n",
       "Gender_M                                             True\n",
       "City_Albuquerque                                    False\n",
       "City_Santa Fe                                       False\n",
       "City_Taos                                           False\n",
       "Medical_Expenses_Family/age                          True\n",
       "Severity/age                                         True\n",
       "Medical_Expenses_Family/Number_of_family_members     True\n",
       "dtype: bool"
      ]
     },
     "execution_count": 42,
     "metadata": {},
     "output_type": "execute_result"
    }
   ],
   "source": [
    "# Creating model\n",
    "forest = RandomForestClassifier(\n",
    "    n_jobs=-1, max_depth=5, class_weight='balanced', random_state=150)\n",
    "\n",
    "# Define method\n",
    "boruta = BorutaPy(estimator=forest,\n",
    "                  n_estimators='auto',\n",
    "                  random_state=150)\n",
    "\n",
    "# Fit Boruta (it accepts np.array, not pd.DataFrame)\n",
    "boruta.fit(X.values, y.values.ravel())\n",
    "\n",
    "selected_features = pd.Series(boruta.support_, index=X.columns)\n",
    "selected_features"
   ]
  },
  {
   "cell_type": "markdown",
   "metadata": {},
   "source": [
    "The variables that have a True value will be the ones selected to train final model."
   ]
  },
  {
   "cell_type": "markdown",
   "metadata": {},
   "source": [
    "**RFE**"
   ]
  },
  {
   "cell_type": "markdown",
   "metadata": {},
   "source": [
    "RFE was also tested has a feature engineering technique but better results were obtained with the Borura technique. With this said, the results of Boruta  will be used for the final model."
   ]
  },
  {
   "cell_type": "code",
   "execution_count": 43,
   "metadata": {
    "ExecuteTime": {
     "end_time": "2020-05-31T15:18:49.600109Z",
     "start_time": "2020-05-31T15:18:49.582886Z"
    }
   },
   "outputs": [],
   "source": [
    "# #no of features\n",
    "# nof_list = range(1,len(X.columns))            \n",
    "# high_score=0\n",
    "# #Variable to store the optimum features\n",
    "# nof=0           \n",
    "# score_list =[]\n",
    "# for n in range(len(nof_list)):\n",
    "    \n",
    "#     model = RandomForestClassifier(\n",
    "#     n_jobs=-1, max_depth=5, class_weight='balanced',random_state=150)\n",
    "\n",
    "#     rfe = RFE(model, nof_list[n])\n",
    "#     X_rfe = rfe.fit_transform(X, y)\n",
    "    \n",
    "#     # Cross Validation\n",
    "#     cv_results = cross_validate(\n",
    "#     model, X_rfe, y, cv=5, scoring=[\"accuracy\"])\n",
    "#     # Getting the acc\n",
    "#     score = cv_results[\"test_accuracy\"].mean()\n",
    "    \n",
    "#     score_list.append(score)\n",
    "    \n",
    "#     if(score>high_score):\n",
    "#         high_score = score\n",
    "#         nof = nof_list[n]\n",
    "# print(\"Optimum number of features: %d\" %nof)\n",
    "# print(\"Score with %d features: %f\" % (nof, high_score))"
   ]
  },
  {
   "cell_type": "code",
   "execution_count": 44,
   "metadata": {
    "ExecuteTime": {
     "end_time": "2020-05-31T15:18:49.636239Z",
     "start_time": "2020-05-31T15:18:49.623110Z"
    }
   },
   "outputs": [],
   "source": [
    "# model = RandomForestClassifier(n_jobs=-1, max_depth=5, class_weight='balanced')"
   ]
  },
  {
   "cell_type": "code",
   "execution_count": 45,
   "metadata": {
    "ExecuteTime": {
     "end_time": "2020-05-31T15:18:49.661223Z",
     "start_time": "2020-05-31T15:18:49.650910Z"
    }
   },
   "outputs": [],
   "source": [
    "# rfe = RFE(estimator=model, n_features_to_select=11)"
   ]
  },
  {
   "cell_type": "code",
   "execution_count": 46,
   "metadata": {
    "ExecuteTime": {
     "end_time": "2020-05-31T15:18:49.696932Z",
     "start_time": "2020-05-31T15:18:49.677182Z"
    }
   },
   "outputs": [],
   "source": [
    "# X_rfe = rfe.fit_transform(X=X, y=y)"
   ]
  },
  {
   "cell_type": "code",
   "execution_count": 47,
   "metadata": {
    "ExecuteTime": {
     "end_time": "2020-05-31T15:18:49.716992Z",
     "start_time": "2020-05-31T15:18:49.708934Z"
    }
   },
   "outputs": [],
   "source": [
    "# print(rfe.support_, X.columns)"
   ]
  },
  {
   "cell_type": "markdown",
   "metadata": {},
   "source": [
    "**Removing non important features**"
   ]
  },
  {
   "cell_type": "code",
   "execution_count": 48,
   "metadata": {
    "ExecuteTime": {
     "end_time": "2020-05-31T15:18:49.732915Z",
     "start_time": "2020-05-31T15:18:49.723985Z"
    }
   },
   "outputs": [],
   "source": [
    "X = X.drop(['Parents or children infected', 'City_Albuquerque', 'City_Santa Fe',\n",
    "       'City_Taos'], axis=1)"
   ]
  },
  {
   "cell_type": "markdown",
   "metadata": {},
   "source": [
    "## <font color='#E8800A'>Model</font> <a class=\"anchor\" id=\"nineth-bullet\"></a>\n",
    "  [Back to TOC](#toc)<br>"
   ]
  },
  {
   "cell_type": "markdown",
   "metadata": {},
   "source": [
    "To select the best model that fits our data first we used the function best_scaler to understand what was the best scaler for a particular model. Note that it is important to set the same random_state value to all the models.\n",
    "\n",
    "Models Tried:\n",
    " * MLPClassifier\n",
    " * SVC\n",
    " * RandomForestClassifier\n",
    " * KneighborsClassifier\n",
    " * GradientBoostingClassifier\n",
    " * BaggingClassifier using all other models as base estimators\n"
   ]
  },
  {
   "cell_type": "code",
   "execution_count": 49,
   "metadata": {
    "ExecuteTime": {
     "end_time": "2020-05-31T15:19:07.723755Z",
     "start_time": "2020-05-31T15:18:49.736917Z"
    }
   },
   "outputs": [
    {
     "data": {
      "text/plain": [
       "(               Accuracy\n",
       " MinMax (-1,1)  0.831532\n",
       " MinMax (0,1)   0.832445\n",
       " Standard       0.830615\n",
       " Robust         0.831528\n",
       " No Scaler      0.832445,\n",
       " <module 'seaborn' from 'C:\\\\Users\\\\nunoa\\\\Anaconda3\\\\lib\\\\site-packages\\\\seaborn\\\\__init__.py'>)"
      ]
     },
     "execution_count": 49,
     "metadata": {},
     "output_type": "execute_result"
    },
    {
     "data": {
      "image/png": "[encoded data removed]",
      "text/plain": [
       "<Figure size 432x288 with 1 Axes>"
      ]
     },
     "metadata": {},
     "output_type": "display_data"
    }
   ],
   "source": [
    "# model = MLPClassifier(random_state=150)\n",
    "\n",
    "# model = SVC(random_state=150)\n",
    "\n",
    "model = RandomForestClassifier(random_state=150)\n",
    "\n",
    "# model = KNeighborsClassifier()   \n",
    "\n",
    "# model = GradientBoostingClassifier(random_state = 150)\n",
    "\n",
    "# model = BaggingClassifier(base_estimator = model, random_state = 150)\n",
    "\n",
    "best_scaler(model, X, y)"
   ]
  },
  {
   "cell_type": "markdown",
   "metadata": {},
   "source": [
    "The **RandomForestClassifier** using Min Max Scaler with feature range from 0 to 1 was the one that gave the best results.\n",
    "\n",
    "A **GridSearchCV** was used to see the best combination of parameters for each of the models.\n",
    "\n",
    "Each result was compared to the best previous one.\n",
    "\n",
    "Below are all the combinations of parameters tried for each estimator. "
   ]
  },
  {
   "cell_type": "code",
   "execution_count": 53,
   "metadata": {
    "ExecuteTime": {
     "end_time": "2020-05-30T19:37:27.466245Z",
     "start_time": "2020-05-30T16:07:11.657138Z"
    }
   },
   "outputs": [
    {
     "name": "stdout",
     "output_type": "stream",
     "text": [
      "{'ccp_alpha': 0.0, 'class_weight': 'balanced', 'criterion': 'entropy', 'max_depth': 13, 'max_features': 0.5, 'max_leaf_nodes': None, 'min_impurity_decrease': 0.0, 'min_samples_leaf': 1, 'min_samples_split': 3, 'n_estimators': 40}\n",
      "0.848008043232374\n"
     ]
    }
   ],
   "source": [
    "#MLP Classifier\n",
    "# parameter_space = {\n",
    "#     'hidden_layer_sizes': [(100), (50, 50), (100, 100), (100, 100,100), (100,200,300), (100, 200, 100)],\n",
    "#     'activation': ['relu', 'tahn', 'logistic'],\n",
    "#     'solver': ['adam', 'sgd', 'lbfgs'],\n",
    "#     'learning_rate_init': np.linspace(0.001, 0.01, 10),\n",
    "#     'learning_rate': ['adaptive', 'constant', 'invscaling'],\n",
    "#     'batch_size': [100, 200],\n",
    "#     'max_iter': [100, 150, 200]\n",
    "# }\n",
    "\n",
    "#SVC\n",
    "# parameter_space = {\n",
    "#     'kernel': ['linear', 'poly', 'rbf', 'sigmoid'],\n",
    "#     'gamma': ['scale', 'auto' ],\n",
    "#     'class_weight': [None, 'balanced']\n",
    "# }\n",
    "\n",
    "#RF\n",
    "# parameter_space = {\n",
    "#     'n_estimators': [100, 70, 60, 50, 40],\n",
    "#     'criterion': ['entropy', 'gini'],\n",
    "#     'max_depth': [None, 7, 8, 10, 11, 12, 13, 15],\n",
    "#     'min_samples_split': [2, 3, 5, 10],\n",
    "#     'min_samples_leaf': [1, 2, 3, 5, 10, 15],\n",
    "#     'max_leaf_nodes': [None, 10, 20, 30],\n",
    "#     'max_features': ['auto', 'sqrt', 'log2', 0.8, 0.7, 0.6, 0.5],\n",
    "#     'class_weight': ['balanced', 'balanced_subsample'],\n",
    "#     'min_impurity_decrease': np.linspace(0.0, 0.02, 30),\n",
    "#     'ccp_alpha': np.linspace(0.0, 0.0005, 1000)\n",
    "# }\n",
    "\n",
    "#KNN\n",
    "# parameter_space = {\n",
    "#     'n_neighbors': [3, 5, 10, 12, 15],\n",
    "#     'weights': ['uniform', 'distance'],\n",
    "#     'algorithm': ['auto', 'ball_tree', 'kd_tree', 'brute'],\n",
    "#     'leaf_size': [15, 20, 30, 40]\n",
    "# }\n",
    "\n",
    "#GBC\n",
    "# parameter_space = {\n",
    "#     'loss': ['deviance', 'exponential'],\n",
    "#     'n_estimators': [100, 50],\n",
    "#     'criterion': ['friedman_mse', 'mse', 'mae'],\n",
    "#     'learning_rate': [0.1, 0.5],\n",
    "#     'max_depth': [None, 8, 20],\n",
    "#     'min_samples_split': [1, 3],\n",
    "#     'min_samples_leaf': [1, 3],\n",
    "#     'max_leaf_nodes': [None],\n",
    "#     'max_features': [None, 0.5],\n",
    "#     'min_impurity_decrease': [0.0]\n",
    "# }\n",
    "\n",
    "# clf = GridSearchCV(model, parameter_space, cv=5)\n",
    "\n",
    "# scaler = MinMaxScaler().fit(X)\n",
    "\n",
    "# scaler_X = scaler.transform(X)\n",
    "\n",
    "# clf.fit(scaler_X, y)\n",
    "\n",
    "# print(clf.best_params_)\n",
    "\n",
    "# print(clf.best_score_)"
   ]
  },
  {
   "cell_type": "markdown",
   "metadata": {},
   "source": [
    "The **RandomForestClassifier** gave the best results not only with standard parameters but with tuning."
   ]
  },
  {
   "cell_type": "markdown",
   "metadata": {},
   "source": [
    "## <font color='#E8800A'>Assess</font> <a class=\"anchor\" id=\"tenth-bullet\"></a>\n",
    "  [Back to TOC](#toc)<br>"
   ]
  },
  {
   "cell_type": "code",
   "execution_count": 87,
   "metadata": {
    "ExecuteTime": {
     "end_time": "2020-05-31T15:22:47.218818Z",
     "start_time": "2020-05-31T15:22:43.946238Z"
    }
   },
   "outputs": [
    {
     "name": "stdout",
     "output_type": "stream",
     "text": [
      "0.8498081734778984\n"
     ]
    }
   ],
   "source": [
    "model_final = RandomForestClassifier(class_weight='balanced', \n",
    "                                     criterion='entropy', \n",
    "                                     max_depth=13, \n",
    "                                     max_features=0.5, \n",
    "                                     max_leaf_nodes=None, \n",
    "                                     min_impurity_decrease=0.0, \n",
    "                                     min_samples_leaf=1, \n",
    "                                     min_samples_split=3, \n",
    "                                     n_estimators=40) \n",
    "\n",
    "scaler = MinMaxScaler().fit(X)\n",
    "\n",
    "scaler_X = scaler.transform(X)\n",
    "\n",
    "model_final.fit(scaler_X, y)\n",
    "\n",
    "cv_results = cross_validate(model_final, scaler_X, y, cv=10, scoring=[\"accuracy\"])\n",
    "\n",
    "accuracy_scaler = cv_results[\"test_accuracy\"].mean()\n",
    "\n",
    "print(accuracy_scaler)"
   ]
  },
  {
   "cell_type": "markdown",
   "metadata": {},
   "source": [
    "---"
   ]
  },
  {
   "cell_type": "markdown",
   "metadata": {},
   "source": [
    "## <font color='#E8800A'>Predicting Test set</font> <a class=\"anchor\" id=\"eleventh-bullet\"></a>\n",
    "  [Back to TOC](#toc)<br>"
   ]
  },
  {
   "cell_type": "code",
   "execution_count": 88,
   "metadata": {
    "ExecuteTime": {
     "end_time": "2020-05-31T15:22:53.870630Z",
     "start_time": "2020-05-31T15:22:53.843014Z"
    }
   },
   "outputs": [
    {
     "name": "stdout",
     "output_type": "stream",
     "text": [
      "<class 'pandas.core.frame.DataFrame'>\n",
      "RangeIndex: 400 entries, 0 to 399\n",
      "Data columns (total 10 columns):\n",
      " #   Column                             Non-Null Count  Dtype  \n",
      "---  ------                             --------------  -----  \n",
      " 0   Patient_ID                         400 non-null    int64  \n",
      " 1   Family_Case_ID                     400 non-null    int64  \n",
      " 2   Severity                           400 non-null    int64  \n",
      " 3   Name                               400 non-null    object \n",
      " 4   Birthday_year                      318 non-null    float64\n",
      " 5   Parents or siblings infected       400 non-null    int64  \n",
      " 6   Wife/Husband or children infected  400 non-null    int64  \n",
      " 7   Medical_Expenses_Family            400 non-null    int64  \n",
      " 8   Medical_Tent                       89 non-null     object \n",
      " 9   City                               400 non-null    object \n",
      "dtypes: float64(1), int64(6), object(3)\n",
      "memory usage: 31.4+ KB\n"
     ]
    }
   ],
   "source": [
    "test = pd.read_csv(\"test.csv\")\n",
    "test.info()"
   ]
  },
  {
   "cell_type": "code",
   "execution_count": 89,
   "metadata": {
    "ExecuteTime": {
     "end_time": "2020-05-31T15:22:55.410988Z",
     "start_time": "2020-05-31T15:22:55.018626Z"
    },
    "scrolled": false
   },
   "outputs": [],
   "source": [
    "# modify\n",
    "\n",
    "ID = test['Patient_ID']\n",
    "\n",
    "test = test.drop(columns=[\"Patient_ID\", \"Medical_Tent\"], axis=1)\n",
    "\n",
    "# Changing column names\n",
    "\n",
    "test = test.rename(columns={\"Parents or siblings infected\": \"Parents or children infected\",\n",
    "                            \"Wife/Husband or children infected\": \"Wife/Husband or siblings infected\"})\n",
    "\n",
    "test['Name'] = test['Name'].str.replace('^(Ms.|Mrs.|Miss)', 'F').str[0]\n",
    "test['Name'] = test['Name'].str.replace('^(Mr.|Master)', 'M').str[0]\n",
    "\n",
    "test = test.rename(columns={\"Name\": \"Gender\"})\n",
    "\n",
    "cat = ['Gender', 'City']\n",
    "\n",
    "new_cat = [col for col in cat if col in test.columns]\n",
    "\n",
    "test = pd.get_dummies(data=test, columns=new_cat)\n",
    "\n",
    "data_test = knn_imp.transform(test)\n",
    "\n",
    "test = pd.DataFrame(data = data_test, columns = test.columns)\n",
    "\n",
    "test['Medical_Expenses_Family/age'] = test['Medical_Expenses_Family']/calculateAge(test[\"Birthday_year\"])\n",
    "test['Severity/age'] = test['Severity']/calculateAge(test[\"Birthday_year\"])\n",
    "test['Medical_Expenses_Family/Number_of_family_members'] = test['Medical_Expenses_Family']/get_counts(test,'Family_Case_ID')\n",
    "\n",
    "test = test.drop(['Family_Case_ID', 'Parents or children infected', 'City_Albuquerque', 'City_Santa Fe',\n",
    "       'City_Taos'], axis=1)\n",
    "\n",
    "to_predict = scaler.transform(test)\n",
    "\n",
    "# Predictions\n",
    "\n",
    "predictions = model_final.predict(to_predict)\n",
    "\n",
    "# Final dataframe\n",
    "\n",
    "dataframe = pd.DataFrame()\n",
    "\n",
    "dataframe['Patient_ID'] = ID\n",
    "dataframe['Deceased'] = predictions\n",
    "\n",
    "dataframe.to_csv(\"Predictions\\\\Group21_VersionX.csv\", index=False)"
   ]
  },
  {
   "cell_type": "markdown",
   "metadata": {},
   "source": [
    "---"
   ]
  },
  {
   "cell_type": "markdown",
   "metadata": {},
   "source": [
    "# Important notice"
   ]
  },
  {
   "cell_type": "markdown",
   "metadata": {},
   "source": [
    "The final model predictions corresponds to the Group21_Version29.csv on kaggle."
   ]
  }
 ],
 "metadata": {
  "kernelspec": {
   "display_name": "Python 3",
   "language": "python",
   "name": "python3"
  },
  "language_info": {
   "codemirror_mode": {
    "name": "ipython",
    "version": 3
   },
   "file_extension": ".py",
   "mimetype": "text/x-python",
   "name": "python",
   "nbconvert_exporter": "python",
   "pygments_lexer": "ipython3",
   "version": "3.7.3"
  },
  "notify_time": "30"
 },
 "nbformat": 4,
 "nbformat_minor": 4
}
