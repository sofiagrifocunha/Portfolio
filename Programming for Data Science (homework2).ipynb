{
 "cells": [
  {
   "cell_type": "markdown",
   "metadata": {},
   "source": [
    "# Programming for Data Science\n",
    "## NOVA IMS\n",
    "\n",
    "#### Student Name:\n",
    "Sofia Cunha\n",
    "#### Student Number:\n",
    "M20190795\n",
    "\n",
    "### How to save your jupyter notebook\n",
    "Save wih the following name HW2_\\< id >.ipynb where \\< id > is your student number. Upload your solution on moodle\n",
    "\n",
    "### Homework 2\n",
    "\n",
    "This week homework will test your ability to apply functions and classes.\n",
    "\n"
   ]
  },
  {
   "cell_type": "markdown",
   "metadata": {},
   "source": [
    "### Notes and Additional Material\n",
    "\n",
    "In the _Theoretical Slides L3_ **Challenges for Practice** _page 52_  supplied by **Professor Flávio Pinheiro** you will find the following exercise:\n",
    "\n",
    "\n",
    "**Question:** Write a program that computes the net amount of a bank account based a transaction log from console input. the transaction log format is shown as following:\n",
    "\n",
    "D 100\n",
    "\n",
    "W 200\n",
    "\n",
    "D means deposit while W means withdrawal.\n",
    "Suppose the folowing input is supplied to the program:\n",
    "\n",
    "D 300\n",
    "\n",
    "D 300\n",
    "\n",
    "W 200\n",
    "\n",
    "D 100\n",
    "\n",
    "Then, the output should be: 500\n",
    "\n",
    "## Let's move on to what matters!!"
   ]
  },
  {
   "cell_type": "markdown",
   "metadata": {},
   "source": [
    "\n",
    "\n",
    "\n",
    "# Assignment\n"
   ]
  },
  {
   "cell_type": "markdown",
   "metadata": {},
   "source": [
    "## Part I"
   ]
  },
  {
   "cell_type": "markdown",
   "metadata": {},
   "source": [
    "\n",
    "1. Declare a function named *delete_duplicates* that takes as argument a list, **L**, of values;\n",
    "\n",
    "\n",
    "* The function *delete_duplicates* returns a new list with unique elements of the passed list, **L**;\n",
    "* For instance if we pass a list with the values [1,2,3,3,3,3,4,5], it must return [1, 2, 3, 4, 5];\n",
    "* Complement the function with a proper documentation that can be accessible through the attribute .\\__doc__;\n",
    "* The function should work for lists with heterogeneous types of objects (strings, int, float, etc .."
   ]
  },
  {
   "cell_type": "code",
   "execution_count": 47,
   "metadata": {},
   "outputs": [
    {
     "data": {
      "text/plain": [
       "[1, 2, 3, 4, 5]"
      ]
     },
     "execution_count": 47,
     "metadata": {},
     "output_type": "execute_result"
    }
   ],
   "source": [
    "# Your Solution\n",
    "def delete_duplicates(L):\n",
    "    \"\"\"The function delete_duplicates will return a new list with unique elements\"\"\"\n",
    "    \n",
    "    Listdata = []\n",
    "    \n",
    "    for y in L:\n",
    "        if y not in Listdata:\n",
    "            Listdata.append(y)\n",
    "    \n",
    "    return Listdata\n",
    "\n",
    "delete_duplicates([1,2,3,3,3,3,4,5])\n",
    "\n",
    "#delete_duplicates.__doc__"
   ]
  },
  {
   "cell_type": "markdown",
   "metadata": {},
   "source": [
    "\n",
    "2. Declare a list, **l**, made up of 10000 random integers between 0 and 100, 100 included;\n",
    "\n",
    "\n",
    "* Use the function *delete_duplicates* to return the unique elements in **l**;"
   ]
  },
  {
   "cell_type": "code",
   "execution_count": 48,
   "metadata": {},
   "outputs": [
    {
     "name": "stdout",
     "output_type": "stream",
     "text": [
      "[10, 19, 48, 46, 3, 89, 64, 8, 44, 76, 91, 66, 100, 36, 95, 26, 96, 92, 5, 41, 43, 32, 15, 39, 58, 22, 75, 25, 74, 16, 6, 14, 11, 90, 99, 72, 81, 49, 93, 71, 2, 9, 23, 17, 20, 7, 55, 37, 67, 29, 51, 79, 85, 98, 82, 30, 50, 56, 84, 52, 65, 40, 94, 83, 53, 34, 60, 12, 35, 69, 62, 88, 68, 24, 70, 87, 0, 42, 57, 31, 21, 28, 78, 1, 97, 18, 4, 13, 54, 86, 77, 80, 33, 38, 59, 61, 45, 63, 73, 47, 27]\n"
     ]
    }
   ],
   "source": [
    "import random\n",
    "\n",
    "l=[]\n",
    "    \n",
    "for i in range (10000):\n",
    "    l.append(random.randrange(0, 101))\n",
    "        \n",
    "\n",
    "print(delete_duplicates (l))"
   ]
  },
  {
   "cell_type": "markdown",
   "metadata": {},
   "source": [
    "## Part II"
   ]
  },
  {
   "cell_type": "markdown",
   "metadata": {},
   "source": [
    "1. Declare a class that holds a client bank account;\n",
    "\n",
    "\n",
    "* The input arguments must be name and first deposit amount\n",
    "* The client will have an unique id\n",
    "* A comission will deducted to the original amount of 50\n",
    "\n",
    "\n",
    "2. Interest rate\n",
    "\n",
    "\n",
    "* Define a method where an interest rate is aplied to the net amount\n",
    "\n",
    "\n",
    "3. Age\n",
    "\n",
    "\n",
    "* Create functions to supply the birthdate (format YYYYMMDD) and get the Age\n",
    "\n",
    "\n",
    "\n",
    "##### Note: Use the basis provided to solve this homework item. Take the necessary actions to make it run successfully"
   ]
  },
  {
   "cell_type": "code",
   "execution_count": 49,
   "metadata": {},
   "outputs": [],
   "source": [
    "import datetime\n",
    "\n",
    "class bank_account():\n",
    "    \n",
    "    #<interest rate>\n",
    "    irate = 1.05  \n",
    "    idnum = 0\n",
    "     \n",
    "    #<account id>\n",
    "    def __init__(self,  name, balance):\n",
    "        self.name = name\n",
    "        if balance < 50:\n",
    "            raise ValueError('First deposit must be 50 or more!')\n",
    "        self.balance = balance - 50\n",
    "        self.idnum = bank_account.idnum\n",
    "        bank_account.idnum += 1\n",
    "        print(f'Bank account created with id {self.idnum} and balance {self.balance}')\n",
    "    \n",
    "    #<function to initialize with the mandatory attributesand necessary actions>\n",
    "    \n",
    "    def apply_IR(self):\n",
    "        self.balance = float(self.balance * self.irate)\n",
    "        print(f'Interest rate applied! You have {self.balance} in your account!')\n",
    "        \n",
    "        \n",
    "    def setBirthday(self, year_of_birth, month_of_birth, day_of_birth):\n",
    "        self.birthdate = datetime.date(year_of_birth, month_of_birth, day_of_birth)\n",
    "        print(f'Birthdate set to {self.birthdate}')\n",
    "        \n",
    "    def getAge(self):\n",
    "        if self.birthdate == None:\n",
    "            raise ValueError('please setBirthday!!')\n",
    "        else:\n",
    "            today = datetime.date.today()\n",
    "            age = today.year - self.birthdate.year\n",
    "        \n",
    "            if today < datetime.date(today.year, self.birthdate.month, self.birthdate.day):\n",
    "                age -= 1\n",
    "\n",
    "        return age \n",
    "    \n",
    "    \n",
    "    def applyDeposit(self, amount):  \n",
    "        self.balance += amount \n",
    "        print(f'Deposit done! You have {self.balance} in your account')\n",
    "        \n",
    "    \n",
    "    def applyWithdrawal(self, amount): \n",
    "        if self.balance>=amount: \n",
    "            self.balance-=amount \n",
    "            print(f'Withdraw done! You have {self.balance} in your account') \n",
    "            \n",
    "        else: \n",
    "            print(\"\\n Insufficient balance  \") "
   ]
  },
  {
   "cell_type": "markdown",
   "metadata": {},
   "source": [
    "\n",
    "4. Transactions\n",
    "\n",
    "\n",
    "* Apply the following bank transactions:\n",
    "\n",
    "* Open Account with 7500\n",
    "* D 500\n",
    "* D 500\n",
    "* W 1000\n",
    "* W 1500\n",
    "* D 500\n",
    "* Apply a class interest rate of 5%"
   ]
  },
  {
   "cell_type": "code",
   "execution_count": 50,
   "metadata": {},
   "outputs": [
    {
     "name": "stdout",
     "output_type": "stream",
     "text": [
      "Bank account created with id 0 and balance 7450\n",
      "Deposit done! You have 7950 in your account\n",
      "Deposit done! You have 8450 in your account\n",
      "Withdraw done! You have 7450 in your account\n",
      "Withdraw done! You have 5950 in your account\n",
      "Deposit done! You have 6450 in your account\n",
      "Interest rate applied! You have 6772.5 in your account!\n"
     ]
    }
   ],
   "source": [
    "Acc1 = bank_account('Grifo', 7500)\n",
    "Acc1.applyDeposit(500)\n",
    "Acc1.applyDeposit(500)\n",
    "Acc1.applyWithdrawal(1000)\n",
    "Acc1.applyWithdrawal(1500)\n",
    "Acc1.applyDeposit(500)\n",
    "Acc1.apply_IR()"
   ]
  },
  {
   "cell_type": "markdown",
   "metadata": {},
   "source": [
    "\n",
    "5 . Interest Rate\n",
    "\n",
    "* Apply a personalized interest rate of 15% (over the previous result)"
   ]
  },
  {
   "cell_type": "code",
   "execution_count": 51,
   "metadata": {},
   "outputs": [
    {
     "name": "stdout",
     "output_type": "stream",
     "text": [
      "Interest rate applied! You have 7788.374999999999 in your account!\n"
     ]
    }
   ],
   "source": [
    "Acc1.irate = 1.15\n",
    "\n",
    "Acc1.apply_IR()"
   ]
  },
  {
   "cell_type": "markdown",
   "metadata": {},
   "source": [
    "6 . Create another dummy bank Account\n",
    "\n",
    "* Print the Account ID"
   ]
  },
  {
   "cell_type": "code",
   "execution_count": 52,
   "metadata": {
    "scrolled": true
   },
   "outputs": [
    {
     "name": "stdout",
     "output_type": "stream",
     "text": [
      "Bank account created with id 1 and balance 9950\n"
     ]
    }
   ],
   "source": [
    "Acc2 = bank_account('Nuno', 10000)"
   ]
  }
 ],
 "metadata": {
  "kernelspec": {
   "display_name": "Python 3",
   "language": "python",
   "name": "python3"
  },
  "language_info": {
   "codemirror_mode": {
    "name": "ipython",
    "version": 3
   },
   "file_extension": ".py",
   "mimetype": "text/x-python",
   "name": "python",
   "nbconvert_exporter": "python",
   "pygments_lexer": "ipython3",
   "version": "3.7.3"
  }
 },
 "nbformat": 4,
 "nbformat_minor": 2
}
